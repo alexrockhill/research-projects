{
  "cells": [
    {
      "cell_type": "markdown",
      "metadata": {},
      "source": [
        "\n\n# Power Spectral Density Analysis: Spectral Decoupling\n\nThe objective of this tutorial is to describe the basics of power spectral\ndensity and what it can tell us about underlying brain activity. Power spectral\ndensity represents time-series data as the magnitude of sine and cosine\ncoefficients of the Fourtier Transform; how much of each different\nfrequency of sinusoidal wave best represents your time-series data. While,\nunderstandably, this method is great at detecting oscillatory neural activity\n(activity that waxes and wanes periodically at a particular frequency\nor rhythm), interestingly, it also yields important information about\naperiodic neural activity through the background or broadband changes in power.\nBrain activity is consistently observed to have exponentially decreasing\nbackground power, like pink noise, with oscillatory peaks superimposed,\nlike the peaks in a nuclear magnetic resonance (NMR) spectroscopy scan. The\npeaks can tell us about oscillatory (periodic), synchronous brain activity\nand the background power can tell us about non-oscillatory (aperiodic),\nasynchronous brain activity. (For contrast, an event-related potential,\nthe deflection in an electrophysiology recording after an event is shown,\nis aperiodic because it doesn't repeat but synchronous because it is\nsynchronized by the event). This tutorial will demonstrate how this\ninterpretation of power spectral density can be used to study a movement\ntask. Unfortunately, since this method was demonstrated on\nelectrocortigraphy (ECoG) which can discriminate the location of brain\nactivity at much better resolution than scalp electroencephalography (EEG),\nwe won't be able to show that, during movement, the broadband changes\nin power are confined to a more specific brain area (the brain area\nthat controls that particular movement) whereas the oscillation is\nspread across a large portion of primary motor cortex (the gyrus that,\nwhen stimulated, causes movement of different body parts depending\non the location of stimulation) but please read :footcite:`MillerEtAl2009A`\nfor more details.\n"
      ]
    },
    {
      "cell_type": "code",
      "execution_count": null,
      "metadata": {
        "collapsed": false
      },
      "outputs": [],
      "source": [
        "# Authors: Alex Rockhill <aprockhill@mailbox.org>\n#\n# License: BSD-3-Clause"
      ]
    },
    {
      "cell_type": "code",
      "execution_count": null,
      "metadata": {
        "collapsed": false
      },
      "outputs": [],
      "source": [
        "import matplotlib.pyplot as plt\nimport numpy as np\nfrom sklearn.decomposition import PCA, FactorAnalysis\nfrom scipy.optimize import minimize\nfrom scipy.signal import find_peaks\n\nimport mne\nfrom mne.datasets import eegbci"
      ]
    },
    {
      "cell_type": "markdown",
      "metadata": {},
      "source": [
        "Load the data: from `ex-eeg-bridging` we can see that subject 5\nhas no bridging and from the documentation in :func:`mne.datasets.eegbci.load_data`\nwe can pick the runs where the subject was performing a movement task\n(3, 5, 7, 9, 11, 13).\n\n"
      ]
    },
    {
      "cell_type": "code",
      "execution_count": null,
      "metadata": {
        "collapsed": false
      },
      "outputs": [],
      "source": [
        "raw_fnames = eegbci.load_data(subject=5, runs=[3, 5, 7, 9, 11, 13])\nraws = [mne.io.read_raw(f, preload=True) for f in raw_fnames]\n\n# join files and standardize format\nraw = mne.concatenate_raws(raws)\neegbci.standardize(raw)  # set channel names\nraw.set_montage(\"standard_1005\")\n\n# make epochs\nevents, event_id = mne.events_from_annotations(raw)\n# four seconds of movement/rest; start 1 s after onset and end 1s before\n# offset for just movement/rest\nepochs = mne.Epochs(\n    raw, events, tmin=1, tmax=3, reject=dict(eeg=4e-4), baseline=None, preload=True\n)"
      ]
    },
    {
      "cell_type": "markdown",
      "metadata": {},
      "source": [
        "First, let's compute the power spectral density and plot it.\n\n"
      ]
    },
    {
      "cell_type": "code",
      "execution_count": null,
      "metadata": {
        "collapsed": false
      },
      "outputs": [],
      "source": [
        "psd = epochs.compute_psd(fmax=75)\npsd.plot()"
      ]
    },
    {
      "cell_type": "markdown",
      "metadata": {},
      "source": [
        "There is a very large artifact in our signal from the power supply\nto the building where the data was collected, let's remove that with\na notch filter so that it won't dominate our signal.\n\n"
      ]
    },
    {
      "cell_type": "code",
      "execution_count": null,
      "metadata": {
        "collapsed": false
      },
      "outputs": [],
      "source": [
        "raw.notch_filter([60])\nepochs = mne.Epochs(\n    raw, events, tmin=1, tmax=3, reject=dict(eeg=4e-4), baseline=None, preload=True\n)\npsd = epochs.compute_psd(fmax=75)\npsd.plot()"
      ]
    },
    {
      "cell_type": "markdown",
      "metadata": {},
      "source": [
        "By not passing a method, we used the default ``method='multitaper'``. The\nFourier Transform can perfectly resolve a signal into sinusoidal components\nof different frequencies given an infinite length signal. Since we only\ncollect data for a finite amount of time, this causes artifacts in the\npower spectrum. The multitaper method uses windows (tapers) of different shapes\neach with their own particular artifact that, when averaged, balance out\neach other's artifact. ``method='welch'`` on the other hand, uses a specified\nwindow but uses a sliding window across time in order to average out artifact.\nThe default for ``method='welch'`` is ``window='hamming'`` which tries to correct\nfor the artifact/distortion as well as possible with a single window.\n\n"
      ]
    },
    {
      "cell_type": "code",
      "execution_count": null,
      "metadata": {
        "collapsed": false
      },
      "outputs": [],
      "source": [
        "psd = epochs.compute_psd(fmax=75, method=\"welch\")\npsd.plot()"
      ]
    },
    {
      "cell_type": "markdown",
      "metadata": {},
      "source": [
        "In general, these methods give similar results in most cases with default\nparameters as shown below but the strength of having two methods is the ability\nto use different parameters. For the Welch method, the tradeoff between using\na larger ``n_fft`` and resolving higher frequencies compared to a smaller ``n_fft``\nand averaging more windows for a cleaner signal can be explored for better signal\nresolution. Similarly, adjusting the bandwidth for the multitaper method can\noptimize the time resolution-frequency resolution tradeoff.\n\n"
      ]
    },
    {
      "cell_type": "code",
      "execution_count": null,
      "metadata": {
        "collapsed": false
      },
      "outputs": [],
      "source": [
        "fig, axes = plt.subplots(2, 5, figsize=(10, 5))\n\nfor ax, bandwidth in zip(axes[0], range(1, 12, 2)):\n    psd = epochs.compute_psd(fmax=75, method=\"multitaper\", bandwidth=bandwidth)\n    psd.plot(axes=ax)\n    ax.set_title(f\"bandwidth={bandwidth}\")\n\nfor ax, n_fft in zip(axes[1], [2**i for i in range(4, 10)]):\n    psd = epochs.compute_psd(fmax=75, method=\"welch\", n_fft=n_fft)\n    psd.plot(axes=ax)\n    ax.set_title(f\"n_fft={n_fft}\")\n\nfor ax in axes[:, 1:].flatten():\n    ax.set_ylabel(\"\")\n\nfig.subplots_adjust(hspace=0.25, wspace=0.2, top=0.9, bottom=0.1, left=0.1, right=0.95)\nfig.text(\n    -0.5, 0.5, \"Multitaper\", rotation=90, va=\"center\", transform=axes[0, 0].transAxes\n)\nfig.text(-0.5, 0.5, \"Welch\", rotation=90, ha=\"center\", transform=axes[1, 0].transAxes)"
      ]
    },
    {
      "cell_type": "markdown",
      "metadata": {},
      "source": [
        "Let's look at how the power spectral density differs between movement and rest\ntrials. We can compute an activation map of the squared cross correlations\n(r\\ :sup:`2`) to tell us how much of the variation in all trials can be\naccounted for by the different means between movement and rest trials. This\nallows us to narrow down our search to a single channel that will has\ndifferences in power spectral density between the two conditions. In this\ncase, the channel is C3, the channel most directly over primary motor cortex\nwhich is sensible for a movement task. We'll examine this channel going\nforward to understand power specrtal density with the particular example of\nmovement compared to rest.\n\n"
      ]
    },
    {
      "cell_type": "code",
      "execution_count": null,
      "metadata": {
        "collapsed": false
      },
      "outputs": [],
      "source": [
        "# compute psd\npsd = epochs.compute_psd(fmax=75)\n\n# choose events\nevent_mask = [entry == () for entry in epochs.drop_log]\nmove_events = np.logical_or(\n    events[:, 2] == event_id[\"T1\"], events[:, 2] == event_id[\"T2\"]\n)[event_mask]\nrest_events = (events[:, 2] == event_id[\"T0\"])[event_mask]\n\n# separate psd data by condition\npsd_data = psd.get_data()\nrest_psd_data = psd_data[rest_events]\nmove_psd_data = psd_data[move_events]\n\n# compute the ratio used in the activation calculation\nn_rest = rest_events.sum()\nn_move = move_events.sum()\nratio = n_rest * n_move / (n_rest + n_move) ** 2\n\n# compute the activation\nactivation = np.zeros((len(psd.ch_names), psd.freqs.size)) * np.nan\nfor i, freq in enumerate(psd.freqs):\n    if freq > 57 and freq < 63:  # mask line noise\n        continue\n    for j in range(len(psd.ch_names)):\n        mean_diff = np.mean(rest_psd_data[:, j, i]) - np.mean(move_psd_data[:, j, i])\n        activation[j, i] = (\n            mean_diff**3 / abs(mean_diff) / np.var(psd_data[:, j, i]) * ratio\n        )\n\nfig, ax = plt.subplots(figsize=(6, 4))\nax.set_title(\"Activation\")\nim = ax.imshow(activation, aspect=\"auto\")\nax.set_xticks(range(0, psd.freqs.size, 5))\nax.set_xticklabels(psd.freqs[::5].round(2), rotation=90)\nax.set_xlabel(\"Frequency (Hz)\")\nax.set_yticks(range(0, len(psd.ch_names), 3))\nax.set_yticklabels(psd.ch_names[::3])\nax.set_ylabel(\"Channel\")\ncbar = fig.colorbar(im, ax=ax)\ncbar.ax.set_ylabel(r\"Signed $r^2$\")\nfig.subplots_adjust(bottom=0.2, right=1)\n\n# choose channel with greatest mean activation\nch = psd.ch_names[np.nanmean(abs(activation), axis=1).argmax()]"
      ]
    },
    {
      "cell_type": "markdown",
      "metadata": {},
      "source": [
        "There are two main components to a power spectrum: 1) The\npower that is present across all frequencies and decreases\nexponentially at higher frequencies (called the 1/f component\nor power law scaling or broadband power) and 2) peaks, generally with a\nnormal distribution above this background power. The broadband power\nreflects neural activity that is aperiodic and asynchronous; when broadband\npower is greater, more neurons are firing total but that they are not\nsynchronized with each other in an oscillatory rhythm :footcite:`ManningEtAl2009`.\nPeaks in the power spectrum, on the other hand, are interpreted\nas periodic, synchronous neural activity.\n\n"
      ]
    },
    {
      "cell_type": "markdown",
      "metadata": {},
      "source": [
        "We can separate out these using principal component analysis (PCA) as in\n:footcite:`MillerEtAl2009A`. Let's see how this works:\n\n"
      ]
    },
    {
      "cell_type": "code",
      "execution_count": null,
      "metadata": {
        "collapsed": false
      },
      "outputs": [],
      "source": [
        "# select the only channel so the data is (epochs x freqs)\npsd_data = psd.get_data(picks=[ch])[:, 0]\n\n# convert to log scale and subtract the mean\npsd_data = np.log(psd_data) - np.log(psd_data.mean(axis=1, keepdims=True))\n\n# prepare to remove frequencies contaminated by line noise\nmask = np.logical_or(psd.freqs < 57, psd.freqs > 63)\n\n# set a random seed for reproducibility\npca = PCA(svd_solver=\"randomized\", whiten=True, random_state=99).fit(psd_data[:, mask])"
      ]
    },
    {
      "cell_type": "markdown",
      "metadata": {},
      "source": [
        "As shown below, the maroon component (1st principal component (PC)) has weights evenly\nspread across frequencies whereas the tan component (2nd PC) is peaked at around 16 Hz\nwhich is considered in the beta (13 - 30 Hz) band of frequencies. Because the\noscillations are shaped like normal distributions, a common approach is to fit them\nwith a normal distribution as in :footcite:`DonoghueEtAl2020`.\n\nAdmittedly, the separation between oscillatory and broadband components\nis not as clean in scalp electroencephalography (EEG) as it is in\nelectrocorticography (ECoG) as was done in :footcite:`MillerEtAl2009A`. ECoG is\nimplanted on the surface of the brain so it detects more brain signal.\n\n"
      ]
    },
    {
      "cell_type": "code",
      "execution_count": null,
      "metadata": {
        "collapsed": false
      },
      "outputs": [],
      "source": [
        "fig, ax = plt.subplots()\ncomp0 = np.zeros((psd.freqs.size,)) * np.nan\ncomp0[mask] = pca.components_[0]\nax.plot(psd.freqs, comp0, color=\"maroon\")\ncomp1 = np.zeros((psd.freqs.size,)) * np.nan\ncomp1[mask] = pca.components_[1]\nax.plot(psd.freqs, comp1, color=\"tan\")\nax.axhline(0)\nax.set_xlabel(\"Frequency (Hz)\")\nax.set_ylabel(\"Component Weight\")"
      ]
    },
    {
      "cell_type": "markdown",
      "metadata": {},
      "source": [
        "One thing to notice is that the principal components tend to have opposite sign at\nthe same frequency. This is likely because principal component are required to be\northogonal. This is not the case for factor analysis, which is PCA without\northogonal axes. Notice that the first and second PCs mirror each other less\nacross the ``y=0`` line.\n\n"
      ]
    },
    {
      "cell_type": "code",
      "execution_count": null,
      "metadata": {
        "collapsed": false
      },
      "outputs": [],
      "source": [
        "psd_data = psd.get_data(picks=[ch])[:, 0]\npsd_data = np.log(psd_data) - np.log(psd_data.mean(axis=1, keepdims=True))\nmask = np.logical_or(psd.freqs < 57, psd.freqs > 63)\nfa = FactorAnalysis(rotation=\"varimax\", random_state=99).fit(psd_data[:, mask])\n\nfig, ax = plt.subplots()\ncomp0 = np.zeros((psd.freqs.size,)) * np.nan\ncomp0[mask] = fa.components_[0]\nax.plot(psd.freqs, comp0, color=\"maroon\")\ncomp1 = np.zeros((psd.freqs.size,)) * np.nan\ncomp1[mask] = fa.components_[1]\nax.plot(psd.freqs, comp1, color=\"tan\")\nax.axhline(0)\nax.set_xlabel(\"Frequency (Hz)\")\nax.set_ylabel(\"Component Weight\")"
      ]
    },
    {
      "cell_type": "markdown",
      "metadata": {},
      "source": [
        "Let's apply the PCA to our data and see if this helps us separate\nmovement epochs from rest epochs.\nWe see that we are indeed able to recapitulate the figures from\n:footcite:`MillerEtAl2009A` with a bit weaker effects using scalp EEG than\nECOG. Note particularly that, as you get into higher frequencies,\nthe power spectra for the two conditions are parallel.\nWhere there are more oscillations, in the lower frequencies\n(below 30 Hz), this becomes obscured, but, in :footcite:`MillerEtAl2009B` higher\nfrequencies are expolored using ECoG and basically this phenoma holds out at\nthose higher frequencies indicating that the connectivity of the brain probably\ndoesn't change fundamentally but rather this broadband shape shifts up and\ndown when more or fewer neurons are firing total near the recording site.\n\nAlso note that in :footcite:`MillerEtAl2009A`, the ECoG grid\ncovered the regions of primary motor cortex responsible for multiple\nmovements, whereas the C3 electrode is roughly over primary motor cortex\nand so records the activity of a relatively large area of primary motor\ncortex, spanning areas that control different limbs. Because of this, we\nare unable to see that the broadband shifts occur focally in the\nprimary motor cortex region that controls the particular movement whereas\nthe beta desynchronization is more widespread across most of primary\nmotor cortex. This is evidence that ties into the spotlight hypothesis\nof motor control where widespread inhibition of the motor system (which seems\nto be mediated by this beta oscillation decrease) facilitates choosing the\ncorrect response (potentially mediated by the broadband power increase)\nlike quieting a crowd in a stadium order to pick one person out in\nparticular :footcite:`GreenhouseEtAl2015`.\n\n"
      ]
    },
    {
      "cell_type": "code",
      "execution_count": null,
      "metadata": {
        "collapsed": false
      },
      "outputs": [],
      "source": [
        "fig, (ax, ax2, ax3) = plt.subplots(3, 1, figsize=(6, 10))\nax.set_title(\"Full Recording\")\nmove_psd_data = np.zeros((psd.freqs.size,)) * np.nan\nmove_psd_data[mask] = psd_data[move_events].mean(axis=0)[mask]\nax.plot(psd.freqs, move_psd_data, color=\"green\", linewidth=0.5)\nrest_psd_data = np.zeros((psd.freqs.size,)) * np.nan\nrest_psd_data[mask] = psd_data[rest_events].mean(axis=0)[mask]\nax.plot(psd.freqs, rest_psd_data, color=\"black\", linewidth=0.5)\nax.set_xlabel(\"Frequency (Hz)\")\nax.set_ylabel(r\"Power ($\\mu$$V^2$)\")\n\npsd_mean = psd_data[:, mask].mean(axis=0)\n\nax2.set_title(\"1st PC (Broadband Power)\")\nmove_psd_data = np.zeros((psd.freqs.size,)) * np.nan\nmove_psd_data[mask] = np.mean(\n    np.dot(pca.transform(psd_data[move_events][:, mask])[:, 0:1], pca.components_[0:1])\n    + psd_mean,\n    axis=0,\n)\nax2.plot(psd.freqs, move_psd_data, color=\"green\", linewidth=0.5)\nrest_psd_data = np.zeros((psd.freqs.size,)) * np.nan\nrest_psd_data[mask] = np.mean(\n    np.dot(pca.transform(psd_data[rest_events][:, mask])[:, 0:1], pca.components_[0:1])\n    + psd_mean,\n    axis=0,\n)\nax2.plot(psd.freqs, rest_psd_data, color=\"black\", linewidth=0.5)\nax2.set_xlabel(\"Frequency (Hz)\")\nax2.set_ylabel(r\"Power ($\\mu$$V^2$)\")\n\nax3.set_title(\"2nd PC (Beta Oscillations)\")\nmove_psd_data = np.zeros((psd.freqs.size,)) * np.nan\nmove_psd_data[mask] = np.mean(\n    np.dot(pca.transform(psd_data[move_events][:, mask])[:, 1:2], pca.components_[1:2])\n    + psd_mean,\n    axis=0,\n)\nax3.plot(psd.freqs, move_psd_data, color=\"green\", linewidth=0.5)\nrest_psd_data = np.zeros((psd.freqs.size,)) * np.nan\nrest_psd_data[mask] = np.mean(\n    np.dot(pca.transform(psd_data[rest_events][:, mask])[:, 1:2], pca.components_[1:2])\n    + psd_mean,\n    axis=0,\n)\nax3.plot(psd.freqs, rest_psd_data, color=\"black\", linewidth=0.5)\nax3.set_xlabel(\"Frequency (Hz)\")\nax3.set_ylabel(r\"Power ($\\mu$$V^2$)\")\nfig.tight_layout()"
      ]
    },
    {
      "cell_type": "markdown",
      "metadata": {},
      "source": [
        "Finally, let's calculate the peaks of the components to quantify\nour oscillations. We'll examine two ways: 1) Fitting a normal\ndistribution (as in :footcite:`DonoghueEtAl2020`), 2) using\n:func:`scipy.signal.find_peaks`.\nAs shown below, with reasonable parameters, these methods\ncan be used to quantify peaks in the power spectrum. One parameter that must\nbe determined is the prominence that specifies how much greater than baseline\nthe peak needs to be for consideration in subsequent analyses. This might be\ndone based on previous literature or by checking different parameter values\non data not used in the analysis.\n\n"
      ]
    },
    {
      "cell_type": "code",
      "execution_count": null,
      "metadata": {
        "collapsed": false
      },
      "outputs": [],
      "source": [
        "def gauss1d(x, a, b, c, d=0):\n    return a * np.exp(-((x - b) ** 2) / 2 * c**2) + d\n\n\nfor i, comp in enumerate(pca.components_[:3]):\n    comp -= comp.mean()\n    thresh = comp.std() * 2\n    # 1D gaussian fit\n    gauss_fits = list()\n    comp_copy = comp.copy()\n    keep_going = True\n    while keep_going:\n        # start at highest peak height and frequency\n        a0 = comp_copy.max() if comp_copy.max() > -comp_copy.min() else comp_copy.min()\n        b0 = psd.freqs[mask][abs(comp_copy).argmax()]\n        c0 = 3  # 3 Hz standard deviation initial guess\n        d0 = 0  # no up-down shift initial guess\n        res = minimize(\n            lambda params: np.sum((gauss1d(psd.freqs[mask], *params) - comp_copy) ** 2),\n            x0=[a0, b0, c0, d0],\n        )\n        if abs(res.x[0]) > thresh:\n            gauss_fits.append(res)\n            comp_copy -= gauss1d(\n                psd.freqs[mask], *res.x\n            )  # remove peak after it's found\n        else:\n            keep_going = False\n    # find_peaks\n    peaks = np.concatenate(\n        [\n            find_peaks(comp, prominence=thresh)[0],\n            find_peaks(-comp, prominence=thresh)[0],\n        ]\n    )\n    # plot\n    fig, ax = plt.subplots()\n    ax.set_title(f\"PC {i + 1}\")\n    comp_plot = np.zeros((psd.freqs.size)) * np.nan\n    comp_plot[mask] = comp\n    ax.plot(psd.freqs, comp_plot, color=\"black\", label=\"PC\")\n    for res in gauss_fits:\n        fit_plot = np.zeros((psd.freqs.size)) * np.nan\n        fit_plot[mask] = gauss1d(psd.freqs[mask], *res.x)\n        ax.plot(psd.freqs, fit_plot, color=\"orange\", label=\"gauss\")\n        peak = res.x[1]\n        if peak >= psd.freqs[0] and peak <= psd.freqs[-1]:\n            ax.axvline(peak, color=\"orange\")\n    for peak in peaks:\n        ax.scatter(psd.freqs[mask][peak], comp[peak], color=\"red\")\n    ax.scatter([np.nan], [np.nan], color=\"red\", label=\"find_peaks\")  # for legend\n    ax.legend()"
      ]
    },
    {
      "cell_type": "markdown",
      "metadata": {},
      "source": [
        "Lastly, let's simulate some data and show that, if broadband power shifts and\noscillations are created directly, we are able to decouple them using the\nprincipal component method used above. Indeed, as shown below, a simulated power\nspectrum can be separated into a broadband power shift and oscillation\nin the first and second principal components respectively.\n\n"
      ]
    },
    {
      "cell_type": "code",
      "execution_count": null,
      "metadata": {
        "collapsed": false
      },
      "outputs": [],
      "source": [
        "sfreq = epochs.info[\"sfreq\"]\nn_epochs = len(epochs)\ntimes = epochs.times\nepochs_data = np.zeros((n_epochs, times.size))\nslope = 2\nfreq = 16\nn_fft_points = times.size // 2 + 1 + times.size % 2\n\nrng = np.random.default_rng(11)  # seed a random number generator\n\nfor i in range(epochs_data.shape[0]):\n    # generate pink noise\n    shift = rng.normal(1)  # decouple from beta\n    amplitude = rng.normal(0.05, scale=0.02)  # decouple from broadband\n    std = rng.normal(3, scale=1)\n    x = shift * (\n        np.exp(rng.normal(size=n_fft_points) + rng.normal(size=n_fft_points) * 1j)\n    )\n    # add beta oscillation\n    x /= np.sqrt(np.arange(1, x.size + 1) ** slope)\n    freqs = np.linspace(0, n_fft_points // 2, n_fft_points)\n    x += gauss1d(freqs, amplitude, freq, 3)\n    x += 1j * gauss1d(freqs, amplitude, freq, 3)\n    y = np.fft.irfft(x).real\n    y /= y.std()\n    y = y[: -(times.size % 2)]\n    epochs_data[i] = y * rng.normal(40, scale=5) * 1e-6  # different amounts per trial\n\n# make epochs object, compute psd\ninfo = mne.create_info([ch], sfreq=sfreq, ch_types=\"eeg\")\ninfo.set_montage(epochs.get_montage())\nepochs_sim = mne.EpochsArray(epochs_data[:, None], info)\npsd_sim = epochs_sim.compute_psd(fmax=75)\npsd_sim.plot()\n\n# check that our method works\npsd_data = psd_sim.get_data()[:, 0]\npsd_data = np.log(psd_data) - np.log(psd_data.mean(axis=1, keepdims=True))\n\n# prepare to remove frequencies contaminated by line noise\nmask = np.logical_or(psd.freqs < 57, psd.freqs > 63)\n\n# set a random seed for reproducibility\npca = PCA(whiten=True, random_state=99).fit(psd_data[:, mask])\n\nfig, ax = plt.subplots()\ncomp0 = np.zeros((psd.freqs.size,)) * np.nan\ncomp0[mask] = pca.components_[0]\nax.plot(psd.freqs, comp0, color=\"maroon\")\ncomp1 = np.zeros((psd.freqs.size,)) * np.nan\ncomp1[mask] = pca.components_[1]\nax.plot(psd.freqs, comp1, color=\"tan\")\nax.axhline(0)\nax.set_xlabel(\"Frequency (Hz)\")\nax.set_ylabel(\"Component Weight\")"
      ]
    }
  ],
  "metadata": {
    "kernelspec": {
      "display_name": "Python 3",
      "language": "python",
      "name": "python3"
    },
    "language_info": {
      "codemirror_mode": {
        "name": "ipython",
        "version": 3
      },
      "file_extension": ".py",
      "mimetype": "text/x-python",
      "name": "python",
      "nbconvert_exporter": "python",
      "pygments_lexer": "ipython3",
      "version": "3.10.10"
    }
  },
  "nbformat": 4,
  "nbformat_minor": 0
}